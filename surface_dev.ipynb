{
 "cells": [
  {
   "cell_type": "code",
   "execution_count": 1,
   "metadata": {},
   "outputs": [],
   "source": [
    "from nilearn import plotting\n",
    "\n",
    "import niworkflows.interfaces.report_base as nrc\n",
    "from nipype.interfaces.base import File\n",
    "from nipype.interfaces.mixins import reporting"
   ]
  },
  {
   "cell_type": "markdown",
   "metadata": {},
   "source": [
    "From https://nilearn.github.io/auto_examples/01_plotting/plot_surf_atlas.html#sphx-glr-auto-examples-01-plotting-plot-surf-atlas-py"
   ]
  },
  {
   "cell_type": "code",
   "execution_count": null,
   "metadata": {},
   "outputs": [],
   "source": [
    "# Retrieve fsaverage5 surface dataset for the plotting background. It contains\n",
    "# the surface template as pial and inflated version and a sulcal depth maps\n",
    "# which is used for shading\n",
    "fsaverage = datasets.fetch_surf_fsaverage()\n",
    "\n",
    "# The fsaverage dataset contains file names pointing to the file locations\n",
    "print('Fsaverage5 pial surface of left hemisphere is at: %s' %\n",
    "      fsaverage['pial_left'])\n",
    "print('Fsaverage5 inflated surface of left hemisphere is at: %s' %\n",
    "      fsaverage['infl_left'])\n",
    "print('Fsaverage5 sulcal depth map of left hemisphere is at: %s' %\n",
    "      fsaverage['sulc_left'])\n",
    "\n",
    "plotting.plot_surf_roi(fsaverage['pial_left'], roi_map=parcellation,\n",
    "                       hemi='left', view='lateral',\n",
    "                       bg_map=fsaverage['sulc_left'], bg_on_data=True,\n",
    "                       darkness=.5)"
   ]
  },
  {
   "cell_type": "code",
   "execution_count": 2,
   "metadata": {},
   "outputs": [],
   "source": [
    "class _ISurfSegInputSpecRPT(nrc._SVGReportCapableInputSpec):\n",
    "    '''\n",
    "    Input specification for ISurfSegRPT, implements:\n",
    "    anat_file: Input anatomical image\n",
    "    mask_file: Input ROI mask\n",
    "    contour_file: Input contour file (optional)\n",
    "    \n",
    "    Bases _SVGReportCapableInputSpec which implements:\n",
    "    out_report: Filename trait\n",
    "    compress_report: [\"auto\", true, false]\n",
    "    '''\n",
    "    anat_file = File(exists=True,\n",
    "                     usedefault=False,\n",
    "                     resolve=True,\n",
    "                     desc='Anatomical image of SVG',\n",
    "                     mandatory=True)\n",
    "\n",
    "    contour_file = File(exists=True,\n",
    "                       resolve=True,\n",
    "                       desc='Contours to include in image',\n",
    "                       mandatory=False)\n",
    "\n",
    "    mask_file = File(exists=True,\n",
    "                     resolve=True,\n",
    "                     desc='ROI Mask', \n",
    "                     mandatory=False)\n",
    "\n",
    "\n",
    "class _ISurfSegOutputSpecRPT(reporting.ReportCapableOutputSpec):\n",
    "    pass\n",
    "\n",
    "\n",
    "class ISurfSegRPT(nrc.SurfaceSegmentationRC):\n",
    "    '''\n",
    "    Class to generate surface segmentation images from pre-existing NIFTI files.\n",
    "    \n",
    "    E.g. for ROI border display  \n",
    "    (i.e show various parcellations with networks such as default mode (i.e Yeo + DMN seed))\n",
    "    \n",
    "    Effectively acts as an Identity node with report\n",
    "    generation as a side-effect.\n",
    "    '''\n",
    "\n",
    "    # Use our declared IO specs\n",
    "    input_spec = _ISurfSegInputSpecRPT\n",
    "    output_spec = _ISurfSegOutputSpecRPT\n",
    "\n",
    "    def _post_run_hook(self, runtime):\n",
    "        '''\n",
    "        Do nothing but propogate properties\n",
    "        to (first) parent class of ISurfSegRPT\n",
    "        that is nrc.SurfaceSegmentationRC\n",
    "        '''\n",
    "\n",
    "        # Set variables for `nrc.SurfaceSegmentationRC`\n",
    "        self._anat_file = self.inputs.anat_file\n",
    "        self._mask_file = self.inputs.mask_file\n",
    "        self._contour_file = self.inputs.contour_file\n",
    "\n",
    "        # Propogate to superclass\n",
    "        return super(ISurfSegRPT, self)._post_run_hook(runtime)\n",
    "\n",
    "    def _run_interface(self, runtime):\n",
    "        return runtime"
   ]
  },
  {
   "cell_type": "code",
   "execution_count": 3,
   "metadata": {},
   "outputs": [],
   "source": [
    "anat_file = '/scratch/bselby/PNSC/PNSC_trifecta_pilot/data/inputs/pnsc/ciftify/sub-CMH0001/T1w/T1w_brain.nii.gz'\n",
    "mask_file = '/scratch/bselby/PNSC/PNSC_trifecta_pilot/data/inputs/pnsc/ciftify/sub-CMH0001/T1w/brainmask_fs.nii.gz'\n",
    "contour_file = '/scratch/bselby/PNSC/PNSC_trifecta_pilot/data/inputs/pnsc/ciftify/sub-CMH0001/T1w/aparc.a2009s+aseg.nii.gz'"
   ]
  },
  {
   "cell_type": "code",
   "execution_count": 4,
   "metadata": {},
   "outputs": [
    {
     "ename": "TraitError",
     "evalue": "The 'anat_file' trait of a _ISurfSegInputSpecRPT instance must be a pathlike object or string representing an existing file, but a value of '/scratch/bselby/PNSC/PNSC_trifecta_pilot/data/inputs/pnsc/ciftify/sub-CMH0001/T1w/T1w_brain.nii.gz' <class 'str'> was specified.",
     "output_type": "error",
     "traceback": [
      "\u001b[0;31m---------------------------------------------------------------------------\u001b[0m",
      "\u001b[0;31mTraitError\u001b[0m                                Traceback (most recent call last)",
      "\u001b[0;32m<ipython-input-4-f64c4ae37eae>\u001b[0m in \u001b[0;36m<module>\u001b[0;34m\u001b[0m\n\u001b[1;32m      1\u001b[0m \u001b[0;31m# Set up input spec and generate report as side-effect\u001b[0m\u001b[0;34m\u001b[0m\u001b[0;34m\u001b[0m\u001b[0;34m\u001b[0m\u001b[0m\n\u001b[1;32m      2\u001b[0m \u001b[0msurfsegrpt\u001b[0m \u001b[0;34m=\u001b[0m \u001b[0mISurfSegRPT\u001b[0m\u001b[0;34m(\u001b[0m\u001b[0mgenerate_report\u001b[0m\u001b[0;34m=\u001b[0m\u001b[0;32mTrue\u001b[0m\u001b[0;34m)\u001b[0m\u001b[0;34m\u001b[0m\u001b[0;34m\u001b[0m\u001b[0m\n\u001b[0;32m----> 3\u001b[0;31m \u001b[0msurfsegrpt\u001b[0m\u001b[0;34m.\u001b[0m\u001b[0minputs\u001b[0m\u001b[0;34m.\u001b[0m\u001b[0manat_file\u001b[0m \u001b[0;34m=\u001b[0m \u001b[0manat_file\u001b[0m\u001b[0;34m\u001b[0m\u001b[0;34m\u001b[0m\u001b[0m\n\u001b[0m\u001b[1;32m      4\u001b[0m \u001b[0msurfsegrpt\u001b[0m\u001b[0;34m.\u001b[0m\u001b[0minputs\u001b[0m\u001b[0;34m.\u001b[0m\u001b[0mmask_file\u001b[0m \u001b[0;34m=\u001b[0m \u001b[0mmask_file\u001b[0m\u001b[0;34m\u001b[0m\u001b[0;34m\u001b[0m\u001b[0m\n\u001b[1;32m      5\u001b[0m \u001b[0msurfsegrpt\u001b[0m\u001b[0;34m.\u001b[0m\u001b[0minputs\u001b[0m\u001b[0;34m.\u001b[0m\u001b[0mcontour_file\u001b[0m \u001b[0;34m=\u001b[0m \u001b[0mcontour_file\u001b[0m\u001b[0;34m\u001b[0m\u001b[0;34m\u001b[0m\u001b[0m\n",
      "\u001b[0;32m/scratch/bselby/.pyenv/versions/3.8.0/lib/python3.8/site-packages/nipype/interfaces/base/traits_extension.py\u001b[0m in \u001b[0;36mvalidate\u001b[0;34m(self, objekt, name, value, return_pathlike)\u001b[0m\n\u001b[1;32m    328\u001b[0m     \u001b[0;32mdef\u001b[0m \u001b[0mvalidate\u001b[0m\u001b[0;34m(\u001b[0m\u001b[0mself\u001b[0m\u001b[0;34m,\u001b[0m \u001b[0mobjekt\u001b[0m\u001b[0;34m,\u001b[0m \u001b[0mname\u001b[0m\u001b[0;34m,\u001b[0m \u001b[0mvalue\u001b[0m\u001b[0;34m,\u001b[0m \u001b[0mreturn_pathlike\u001b[0m\u001b[0;34m=\u001b[0m\u001b[0;32mFalse\u001b[0m\u001b[0;34m)\u001b[0m\u001b[0;34m:\u001b[0m\u001b[0;34m\u001b[0m\u001b[0;34m\u001b[0m\u001b[0m\n\u001b[1;32m    329\u001b[0m         \u001b[0;34m\"\"\"Validate a value change.\"\"\"\u001b[0m\u001b[0;34m\u001b[0m\u001b[0;34m\u001b[0m\u001b[0m\n\u001b[0;32m--> 330\u001b[0;31m         \u001b[0mvalue\u001b[0m \u001b[0;34m=\u001b[0m \u001b[0msuper\u001b[0m\u001b[0;34m(\u001b[0m\u001b[0mFile\u001b[0m\u001b[0;34m,\u001b[0m \u001b[0mself\u001b[0m\u001b[0;34m)\u001b[0m\u001b[0;34m.\u001b[0m\u001b[0mvalidate\u001b[0m\u001b[0;34m(\u001b[0m\u001b[0mobjekt\u001b[0m\u001b[0;34m,\u001b[0m \u001b[0mname\u001b[0m\u001b[0;34m,\u001b[0m \u001b[0mvalue\u001b[0m\u001b[0;34m,\u001b[0m \u001b[0mreturn_pathlike\u001b[0m\u001b[0;34m=\u001b[0m\u001b[0;32mTrue\u001b[0m\u001b[0;34m)\u001b[0m\u001b[0;34m\u001b[0m\u001b[0;34m\u001b[0m\u001b[0m\n\u001b[0m\u001b[1;32m    331\u001b[0m         \u001b[0;32mif\u001b[0m \u001b[0mself\u001b[0m\u001b[0;34m.\u001b[0m\u001b[0m_exts\u001b[0m\u001b[0;34m:\u001b[0m\u001b[0;34m\u001b[0m\u001b[0;34m\u001b[0m\u001b[0m\n\u001b[1;32m    332\u001b[0m             \u001b[0mfname\u001b[0m \u001b[0;34m=\u001b[0m \u001b[0mvalue\u001b[0m\u001b[0;34m.\u001b[0m\u001b[0mname\u001b[0m\u001b[0;34m\u001b[0m\u001b[0;34m\u001b[0m\u001b[0m\n",
      "\u001b[0;32m/scratch/bselby/.pyenv/versions/3.8.0/lib/python3.8/site-packages/nipype/interfaces/base/traits_extension.py\u001b[0m in \u001b[0;36mvalidate\u001b[0;34m(self, objekt, name, value, return_pathlike)\u001b[0m\n\u001b[1;32m    133\u001b[0m         \u001b[0;32mif\u001b[0m \u001b[0mself\u001b[0m\u001b[0;34m.\u001b[0m\u001b[0mexists\u001b[0m\u001b[0;34m:\u001b[0m\u001b[0;34m\u001b[0m\u001b[0;34m\u001b[0m\u001b[0m\n\u001b[1;32m    134\u001b[0m             \u001b[0;32mif\u001b[0m \u001b[0;32mnot\u001b[0m \u001b[0mvalue\u001b[0m\u001b[0;34m.\u001b[0m\u001b[0mexists\u001b[0m\u001b[0;34m(\u001b[0m\u001b[0;34m)\u001b[0m\u001b[0;34m:\u001b[0m\u001b[0;34m\u001b[0m\u001b[0;34m\u001b[0m\u001b[0m\n\u001b[0;32m--> 135\u001b[0;31m                 \u001b[0mself\u001b[0m\u001b[0;34m.\u001b[0m\u001b[0merror\u001b[0m\u001b[0;34m(\u001b[0m\u001b[0mobjekt\u001b[0m\u001b[0;34m,\u001b[0m \u001b[0mname\u001b[0m\u001b[0;34m,\u001b[0m \u001b[0mstr\u001b[0m\u001b[0;34m(\u001b[0m\u001b[0mvalue\u001b[0m\u001b[0;34m)\u001b[0m\u001b[0;34m)\u001b[0m\u001b[0;34m\u001b[0m\u001b[0;34m\u001b[0m\u001b[0m\n\u001b[0m\u001b[1;32m    136\u001b[0m \u001b[0;34m\u001b[0m\u001b[0m\n\u001b[1;32m    137\u001b[0m             \u001b[0;32mif\u001b[0m \u001b[0mself\u001b[0m\u001b[0;34m.\u001b[0m\u001b[0m_is_file\u001b[0m \u001b[0;32mand\u001b[0m \u001b[0;32mnot\u001b[0m \u001b[0mvalue\u001b[0m\u001b[0;34m.\u001b[0m\u001b[0mis_file\u001b[0m\u001b[0;34m(\u001b[0m\u001b[0;34m)\u001b[0m\u001b[0;34m:\u001b[0m\u001b[0;34m\u001b[0m\u001b[0;34m\u001b[0m\u001b[0m\n",
      "\u001b[0;32m/scratch/bselby/.pyenv/versions/3.8.0/lib/python3.8/site-packages/traits/base_trait_handler.py\u001b[0m in \u001b[0;36merror\u001b[0;34m(self, object, name, value)\u001b[0m\n\u001b[1;32m     72\u001b[0m             \u001b[0mThe\u001b[0m \u001b[0mproposed\u001b[0m \u001b[0mnew\u001b[0m \u001b[0mvalue\u001b[0m \u001b[0;32mfor\u001b[0m \u001b[0mthe\u001b[0m \u001b[0mattribute\u001b[0m\u001b[0;34m.\u001b[0m\u001b[0;34m\u001b[0m\u001b[0;34m\u001b[0m\u001b[0m\n\u001b[1;32m     73\u001b[0m         \"\"\"\n\u001b[0;32m---> 74\u001b[0;31m         raise TraitError(\n\u001b[0m\u001b[1;32m     75\u001b[0m             \u001b[0mobject\u001b[0m\u001b[0;34m,\u001b[0m \u001b[0mname\u001b[0m\u001b[0;34m,\u001b[0m \u001b[0mself\u001b[0m\u001b[0;34m.\u001b[0m\u001b[0mfull_info\u001b[0m\u001b[0;34m(\u001b[0m\u001b[0mobject\u001b[0m\u001b[0;34m,\u001b[0m \u001b[0mname\u001b[0m\u001b[0;34m,\u001b[0m \u001b[0mvalue\u001b[0m\u001b[0;34m)\u001b[0m\u001b[0;34m,\u001b[0m \u001b[0mvalue\u001b[0m\u001b[0;34m\u001b[0m\u001b[0;34m\u001b[0m\u001b[0m\n\u001b[1;32m     76\u001b[0m         )\n",
      "\u001b[0;31mTraitError\u001b[0m: The 'anat_file' trait of a _ISurfSegInputSpecRPT instance must be a pathlike object or string representing an existing file, but a value of '/scratch/bselby/PNSC/PNSC_trifecta_pilot/data/inputs/pnsc/ciftify/sub-CMH0001/T1w/T1w_brain.nii.gz' <class 'str'> was specified."
     ]
    }
   ],
   "source": [
    "# Set up input spec and generate report as side-effect\n",
    "surfsegrpt = ISurfSegRPT(generate_report=True)\n",
    "surfsegrpt.inputs.anat_file = anat_file\n",
    "surfsegrpt.inputs.mask_file = mask_file\n",
    "surfsegrpt.inputs.contour_file = contour_file\n",
    "segrpt.inputs.out_report = './tmp/surf_seg_out.svg'"
   ]
  },
  {
   "cell_type": "code",
   "execution_count": null,
   "metadata": {},
   "outputs": [],
   "source": []
  }
 ],
 "metadata": {
  "kernelspec": {
   "display_name": "Python 3",
   "language": "python",
   "name": "python3"
  },
  "language_info": {
   "codemirror_mode": {
    "name": "ipython",
    "version": 3
   },
   "file_extension": ".py",
   "mimetype": "text/x-python",
   "name": "python",
   "nbconvert_exporter": "python",
   "pygments_lexer": "ipython3",
   "version": "3.8.0"
  }
 },
 "nbformat": 4,
 "nbformat_minor": 4
}
