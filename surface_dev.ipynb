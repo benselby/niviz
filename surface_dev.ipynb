{
 "cells": [
  {
   "cell_type": "code",
   "execution_count": null,
   "metadata": {},
   "outputs": [],
   "source": [
    "from nilearn import plotting\n",
    "\n",
    "import niworkflows.interfaces.report_base as nrc"
   ]
  },
  {
   "cell_type": "markdown",
   "metadata": {},
   "source": [
    "From https://nilearn.github.io/auto_examples/01_plotting/plot_surf_atlas.html#sphx-glr-auto-examples-01-plotting-plot-surf-atlas-py"
   ]
  },
  {
   "cell_type": "code",
   "execution_count": null,
   "metadata": {},
   "outputs": [],
   "source": [
    "# Retrieve fsaverage5 surface dataset for the plotting background. It contains\n",
    "# the surface template as pial and inflated version and a sulcal depth maps\n",
    "# which is used for shading\n",
    "fsaverage = datasets.fetch_surf_fsaverage()\n",
    "\n",
    "# The fsaverage dataset contains file names pointing to the file locations\n",
    "print('Fsaverage5 pial surface of left hemisphere is at: %s' %\n",
    "      fsaverage['pial_left'])\n",
    "print('Fsaverage5 inflated surface of left hemisphere is at: %s' %\n",
    "      fsaverage['infl_left'])\n",
    "print('Fsaverage5 sulcal depth map of left hemisphere is at: %s' %\n",
    "      fsaverage['sulc_left'])\n",
    "\n",
    "plotting.plot_surf_roi(fsaverage['pial_left'], roi_map=parcellation,\n",
    "                       hemi='left', view='lateral',\n",
    "                       bg_map=fsaverage['sulc_left'], bg_on_data=True,\n",
    "                       darkness=.5)"
   ]
  },
  {
   "cell_type": "code",
   "execution_count": null,
   "metadata": {},
   "outputs": [],
   "source": [
    "class _ISurfSegInputSpecRPT(nrc._SVGReportCapableInputSpec):\n",
    "    '''\n",
    "    Input specification for ISurfSegRPT, implements:\n",
    "    anat_file: Input anatomical image\n",
    "    mask_file: Input ROI mask\n",
    "    contour_file: Input contour file (optional)\n",
    "    \n",
    "    Bases _SVGReportCapableInputSpec which implements:\n",
    "    out_report: Filename trait\n",
    "    compress_report: [\"auto\", true, false]\n",
    "    '''\n",
    "    anat_file = File(exists=True,\n",
    "                     usedefault=False,\n",
    "                     resolve=True,\n",
    "                     desc='Anatomical image of SVG',\n",
    "                     mandatory=True)\n",
    "\n",
    "    contour_file = File(exists=True,\n",
    "                       resolve=True,\n",
    "                       desc='Contours to include in image',\n",
    "                       mandatory=False)\n",
    "\n",
    "    mask_file = File(exists=True,\n",
    "                     resolve=True,\n",
    "                     desc='ROI Mask', \n",
    "                     mandatory=False)\n",
    "\n",
    "\n",
    "class _ISurfSegOutputSpecRPT(reporting.ReportCapableOutputSpec):\n",
    "    pass\n",
    "\n",
    "\n",
    "class ISurfSegRPT(nrc.SurfaceSegmentationRC):\n",
    "    '''\n",
    "    Class to generate surface segmentation images from pre-existing NIFTI files.\n",
    "    \n",
    "    E.g. for ROI border display  \n",
    "    (i.e show various parcellations with networks such as default mode (i.e Yeo + DMN seed))\n",
    "    \n",
    "    Effectively acts as an Identity node with report\n",
    "    generation as a side-effect.\n",
    "    '''\n",
    "\n",
    "    # Use our declared IO specs\n",
    "    input_spec = _ISurfSegInputSpecRPT\n",
    "    output_spec = _ISurfSegOutputSpecRPT\n",
    "\n",
    "    def _post_run_hook(self, runtime):\n",
    "        '''\n",
    "        Do nothing but propogate properties\n",
    "        to (first) parent class of ISurfSegRPT\n",
    "        that is nrc.SurfaceSegmentationRC\n",
    "        '''\n",
    "\n",
    "        # Set variables for `nrc.SurfaceSegmentationRC`\n",
    "        self._anat_file = self.inputs.anat_file\n",
    "        self._mask_file = self.inputs.mask_file\n",
    "        self._contour_file = self.inputs.contour_file\n",
    "\n",
    "        # Propogate to superclass\n",
    "        return super(ISurfSegRPT, self)._post_run_hook(runtime)\n",
    "\n",
    "    def _run_interface(self, runtime):\n",
    "        return runtime"
   ]
  },
  {
   "cell_type": "code",
   "execution_count": null,
   "metadata": {},
   "outputs": [],
   "source": [
    "anat_file = ''\n",
    "mask_file = ''\n",
    "contour_file = ''"
   ]
  },
  {
   "cell_type": "code",
   "execution_count": null,
   "metadata": {},
   "outputs": [],
   "source": [
    "# Set up input spec and generate report as side-effect\n",
    "surfsegrpt = ISurfSegRPT(generate_report=True)\n",
    "surfsegrpt.inputs.anat_file = anat_file\n",
    "surfsegrpt.inputs.mask_file = mask_file\n",
    "surfsegrpt.inputs.contour_file = contour_file\n",
    "segrpt.inputs.out_report = './tmp/surf_seg_out.svg'"
   ]
  }
 ],
 "metadata": {
  "kernelspec": {
   "display_name": "Python 3",
   "language": "python",
   "name": "python3"
  },
  "language_info": {
   "codemirror_mode": {
    "name": "ipython",
    "version": 3
   },
   "file_extension": ".py",
   "mimetype": "text/x-python",
   "name": "python",
   "nbconvert_exporter": "python",
   "pygments_lexer": "ipython3",
   "version": "3.8.0"
  }
 },
 "nbformat": 4,
 "nbformat_minor": 4
}
