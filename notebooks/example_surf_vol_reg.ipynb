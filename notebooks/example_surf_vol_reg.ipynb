{
 "cells": [
  {
   "cell_type": "code",
   "execution_count": 1,
   "metadata": {},
   "outputs": [],
   "source": [
    "%load_ext autoreload\n",
    "%autoreload 2"
   ]
  },
  {
   "cell_type": "markdown",
   "metadata": {},
   "source": [
    "## Surface-volume co-registration reports\n",
    "This notebook shows how to use the ISurfVolRPT interface to generate co-registered surface and volumetric images, for example overlaying T1, EPI, and Freesurfer surface files. "
   ]
  },
  {
   "cell_type": "code",
   "execution_count": 6,
   "metadata": {},
   "outputs": [],
   "source": [
    "import os \n",
    "import sys\n",
    "module_path = os.path.abspath(os.path.join('..'))\n",
    "if module_path not in sys.path:\n",
    "    sys.path.append(module_path)\n",
    "from niviz.interfaces.views import ISurfVolRPT"
   ]
  },
  {
   "cell_type": "code",
   "execution_count": 7,
   "metadata": {},
   "outputs": [],
   "source": [
    "# Set up segmentation inputs for sample output\n",
    "sub = 'sub-UT1UT10130'\n",
    "basedir = '/archive/data/OPT/pipelines/bids_apps/hcppipelines'\n",
    "space = 'T1w'\n",
    "surf_space = \"fsaverage_LR32k\""
   ]
  },
  {
   "cell_type": "code",
   "execution_count": 8,
   "metadata": {},
   "outputs": [],
   "source": [
    "shortname = {\n",
    "    \"Native\": 'native',\n",
    "    \"fsaverage_LR32k\": \"32k_fs_LR\",\n",
    "    \"\": \"164k_fs_LR\"\n",
    "}\n",
    "volname = {\n",
    "    \"T1w\": \"T1w_acpc_dc.nii.gz\",\n",
    "    \"MNINonLinear\": \"T1w.nii.gz\"\n",
    "}\n",
    "\n",
    "l_surf = os.path.join(\n",
    "        basedir, sub, space, surf_space,\n",
    "    f'{sub}.L.pial.{shortname[surf_space]}.surf.gii'\n",
    ")\n",
    "\n",
    "r_surf = os.path.join(\n",
    "        basedir, sub, space, surf_space,\n",
    "    f'{sub}.R.pial.{shortname[surf_space]}.surf.gii'\n",
    ")\n",
    "\n",
    "t1 = os.path.join(basedir, sub, space, volname[space])"
   ]
  },
  {
   "cell_type": "markdown",
   "metadata": {},
   "source": [
    "Example with just one 'background' image"
   ]
  },
  {
   "cell_type": "code",
   "execution_count": 13,
   "metadata": {},
   "outputs": [],
   "source": [
    "from niviz.interfaces.views import *\n",
    "surfvolrpt = ISurfVolRPT(generate_report=True)\n",
    "surfvolrpt.inputs.bg_nii = t1\n",
    "surfvolrpt.inputs.surf_r = r_surf\n",
    "surfvolrpt.inputs.surf_l = l_surf\n",
    "surfvolrpt.inputs.out_report = f'./{sub}-surface_t1_coreg.svg'"
   ]
  },
  {
   "cell_type": "code",
   "execution_count": 14,
   "metadata": {
    "scrolled": true
   },
   "outputs": [],
   "source": [
    "# Generate the report\n",
    "sv_out = surfvolrpt.run()"
   ]
  },
  {
   "cell_type": "markdown",
   "metadata": {},
   "source": [
    "Example with both background and foreground images"
   ]
  },
  {
   "cell_type": "code",
   "execution_count": 15,
   "metadata": {},
   "outputs": [],
   "source": [
    "from niviz.interfaces.views import *\n",
    "sub = 'sub-UP1UP10206'\n",
    "basedir = '/scratch/jjeyachandra/niviz/data/'\n",
    "func = \"ses-01_task-rest_run-1_bold\"\n",
    "space = 'MNINonLinear'\n",
    "\n",
    "t1 = os.path.join(basedir, sub, space, volname[space])\n",
    "\n",
    "epi = os.path.join(\n",
    "        basedir, sub, space, \"Results\", func,\n",
    "        f\"{func}.nii.gz\")\n",
    "\n",
    "l_surf = os.path.join(\n",
    "        basedir, sub, space, surf_space,\n",
    "    f'{sub}.L.pial.{shortname[surf_space]}.surf.gii'\n",
    ")\n",
    "\n",
    "r_surf = os.path.join(\n",
    "        basedir, sub, space, surf_space,\n",
    "    f'{sub}.R.pial.{shortname[surf_space]}.surf.gii'\n",
    ")"
   ]
  },
  {
   "cell_type": "code",
   "execution_count": 16,
   "metadata": {},
   "outputs": [
    {
     "name": "stderr",
     "output_type": "stream",
     "text": [
      "/scratch/bselby/.pyenv/versions/3.8.0/lib/python3.8/site-packages/numpy/ma/core.py:2831: UserWarning: Warning: converting a masked element to nan.\n",
      "  _data = np.array(data, dtype=dtype, copy=copy,\n"
     ]
    }
   ],
   "source": [
    "surf_EPI_T1_rpt = ISurfVolRPT(generate_report=True)\n",
    "surf_EPI_T1_rpt.inputs.bg_nii = t1\n",
    "surf_EPI_T1_rpt.inputs.fg_nii = epi\n",
    "surf_EPI_T1_rpt.inputs.surf_l = l_surf\n",
    "surf_EPI_T1_rpt.inputs.surf_r = r_surf\n",
    "surf_EPI_T1_rpt.inputs.out_report = f'./{sub}-surface-t1-epi-coreg.svg'\n",
    "\n",
    "sv_out = surf_EPI_T1_rpt.run()"
   ]
  },
  {
   "cell_type": "markdown",
   "metadata": {},
   "source": [
    "Another example with only the EPI image as the underlay"
   ]
  },
  {
   "cell_type": "code",
   "execution_count": 17,
   "metadata": {},
   "outputs": [],
   "source": [
    "surf_EPI_rpt = ISurfVolRPT(generate_report=True)\n",
    "surf_EPI_rpt.inputs.bg_nii = epi\n",
    "surf_EPI_rpt.inputs.surf_l = l_surf\n",
    "surf_EPI_rpt.inputs.surf_r = r_surf\n",
    "surf_EPI_rpt.inputs.out_report = f'./{sub}-surface-epi-coreg.svg'\n",
    "surf_EPI_rpt.inputs.n_cuts = 9\n",
    "\n",
    "sv_out = surf_EPI_rpt.run()"
   ]
  },
  {
   "cell_type": "code",
   "execution_count": null,
   "metadata": {},
   "outputs": [],
   "source": []
  }
 ],
 "metadata": {
  "kernelspec": {
   "display_name": "Python 3",
   "language": "python",
   "name": "python3"
  },
  "language_info": {
   "codemirror_mode": {
    "name": "ipython",
    "version": 3
   },
   "file_extension": ".py",
   "mimetype": "text/x-python",
   "name": "python",
   "nbconvert_exporter": "python",
   "pygments_lexer": "ipython3",
   "version": "3.8.0"
  }
 },
 "nbformat": 4,
 "nbformat_minor": 4
}
