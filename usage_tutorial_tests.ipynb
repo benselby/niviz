{
 "cells": [
  {
   "cell_type": "markdown",
   "metadata": {},
   "source": [
    "This notebook has the dual purpose of containing example usages of the visualization workflow and also serving as a basic test of functionalllity. "
   ]
  },
  {
   "cell_type": "code",
   "execution_count": 2,
   "metadata": {},
   "outputs": [],
   "source": [
    "from niviz.interfaces.views import *"
   ]
  },
  {
   "cell_type": "code",
   "execution_count": 7,
   "metadata": {},
   "outputs": [],
   "source": [
    "# Set up segmentation inputs for sample output\n",
    "subject_id = 'sub-UT1UT10130'\n",
    "base_path = '/archive/data/OPT/pipelines/bids_apps/hcppipelines/{}/T1w/{}/mri/'.format(subject_id, subject_id)\n",
    "anat_file     = base_path + 'brain.mgz'\n",
    "contour_file  = base_path + 'ribbon.mgz'"
   ]
  },
  {
   "cell_type": "code",
   "execution_count": 8,
   "metadata": {},
   "outputs": [],
   "source": [
    "# Set up input spec and generate report as side-effect\n",
    "surfsegrpt = ISurfSegRPT(generate_report=True)\n",
    "surfsegrpt.inputs.anat_file = anat_file\n",
    "surfsegrpt.inputs.contour_file = contour_file\n",
    "surfsegrpt.inputs.out_report = './tmp/surf_seg_out-{}.svg'.format(subject_id)"
   ]
  },
  {
   "cell_type": "code",
   "execution_count": 9,
   "metadata": {},
   "outputs": [
    {
     "name": "stdout",
     "output_type": "stream",
     "text": [
      "Generating report containing a surface segmentation (outputs: \n",
      "out_report = <undefined>\n",
      ")\n"
     ]
    }
   ],
   "source": [
    "# Generate the report\n",
    "ss_out = surfsegrpt.run()"
   ]
  },
  {
   "cell_type": "code",
   "execution_count": 5,
   "metadata": {},
   "outputs": [],
   "source": [
    "surfRPT = ISurfRPT(generate_report=True)\n",
    "subject_id = 'sub-UT1UT10130'\n",
    "sub_dir = '/archive/data/OPT/pipelines/bids_apps/hcppipelines/{}/'.format(subject_id)\n",
    "surfRPT.inputs.surf_mesh = sub_dir + 'T1w/fsaverage/xhemi/surf/lh.pial'\n",
    "surfRPT.inputs.roi_map = sub_dir + 'T1w/fsaverage/xhemi/label/lh.aparc.a2009s.annot'\n",
    "surfRPT.inputs.bg_map = sub_dir + 'T1w/fsaverage/xhemi/surf/lh.sulc'\n",
    "surfRPT.inputs.out_report = './tmp/surf_out-{}.svg'.format(subject_id)"
   ]
  },
  {
   "cell_type": "code",
   "execution_count": 6,
   "metadata": {},
   "outputs": [
    {
     "ename": "ValueError",
     "evalue": "The input type is not recognized. '/mnt/tigrlab/archive/data-2.0/OPT/pipelines/bids_apps/hcppipelines/sub-UT1UT10130/T1w/fsaverage_LR32k/sub-UT1UT10130.32k_fs_LR.wb.spec' was given while valid inputs are a Numpy array or one of the following file formats: .gii, .gii.gz, .mgz, .nii, .nii.gz, Freesurfer specific files such as .curv, .sulc, .thickness, .annot, .label",
     "output_type": "error",
     "traceback": [
      "\u001b[0;31m---------------------------------------------------------------------------\u001b[0m",
      "\u001b[0;31mValueError\u001b[0m                                Traceback (most recent call last)",
      "\u001b[0;32m<ipython-input-6-5deae90ca91a>\u001b[0m in \u001b[0;36m<module>\u001b[0;34m\u001b[0m\n\u001b[0;32m----> 1\u001b[0;31m \u001b[0msurfRPT\u001b[0m\u001b[0;34m.\u001b[0m\u001b[0mrun\u001b[0m\u001b[0;34m(\u001b[0m\u001b[0;34m)\u001b[0m\u001b[0;34m\u001b[0m\u001b[0;34m\u001b[0m\u001b[0m\n\u001b[0m",
      "\u001b[0;32m/scratch/bselby/.pyenv/versions/3.8.0/lib/python3.8/site-packages/nipype/interfaces/base/core.py\u001b[0m in \u001b[0;36mrun\u001b[0;34m(self, cwd, ignore_exception, **inputs)\u001b[0m\n\u001b[1;32m    433\u001b[0m             \u001b[0mruntime\u001b[0m \u001b[0;34m=\u001b[0m \u001b[0mself\u001b[0m\u001b[0;34m.\u001b[0m\u001b[0m_pre_run_hook\u001b[0m\u001b[0;34m(\u001b[0m\u001b[0mruntime\u001b[0m\u001b[0;34m)\u001b[0m\u001b[0;34m\u001b[0m\u001b[0;34m\u001b[0m\u001b[0m\n\u001b[1;32m    434\u001b[0m             \u001b[0mruntime\u001b[0m \u001b[0;34m=\u001b[0m \u001b[0mself\u001b[0m\u001b[0;34m.\u001b[0m\u001b[0m_run_interface\u001b[0m\u001b[0;34m(\u001b[0m\u001b[0mruntime\u001b[0m\u001b[0;34m)\u001b[0m\u001b[0;34m\u001b[0m\u001b[0;34m\u001b[0m\u001b[0m\n\u001b[0;32m--> 435\u001b[0;31m             \u001b[0mruntime\u001b[0m \u001b[0;34m=\u001b[0m \u001b[0mself\u001b[0m\u001b[0;34m.\u001b[0m\u001b[0m_post_run_hook\u001b[0m\u001b[0;34m(\u001b[0m\u001b[0mruntime\u001b[0m\u001b[0;34m)\u001b[0m\u001b[0;34m\u001b[0m\u001b[0;34m\u001b[0m\u001b[0m\n\u001b[0m\u001b[1;32m    436\u001b[0m             \u001b[0moutputs\u001b[0m \u001b[0;34m=\u001b[0m \u001b[0mself\u001b[0m\u001b[0;34m.\u001b[0m\u001b[0maggregate_outputs\u001b[0m\u001b[0;34m(\u001b[0m\u001b[0mruntime\u001b[0m\u001b[0;34m)\u001b[0m\u001b[0;34m\u001b[0m\u001b[0;34m\u001b[0m\u001b[0m\n\u001b[1;32m    437\u001b[0m         \u001b[0;32mexcept\u001b[0m \u001b[0mException\u001b[0m \u001b[0;32mas\u001b[0m \u001b[0me\u001b[0m\u001b[0;34m:\u001b[0m\u001b[0;34m\u001b[0m\u001b[0;34m\u001b[0m\u001b[0m\n",
      "\u001b[0;32m/mnt/tigrlab/scratch/bselby/niviz/niviz/interfaces/views.py\u001b[0m in \u001b[0;36m_post_run_hook\u001b[0;34m(self, runtime)\u001b[0m\n\u001b[1;32m    256\u001b[0m         \u001b[0mself\u001b[0m\u001b[0;34m.\u001b[0m\u001b[0m_bg_map\u001b[0m \u001b[0;34m=\u001b[0m \u001b[0mself\u001b[0m\u001b[0;34m.\u001b[0m\u001b[0minputs\u001b[0m\u001b[0;34m.\u001b[0m\u001b[0mbg_map\u001b[0m \u001b[0;32mor\u001b[0m \u001b[0;32mNone\u001b[0m\u001b[0;34m\u001b[0m\u001b[0;34m\u001b[0m\u001b[0m\n\u001b[1;32m    257\u001b[0m \u001b[0;34m\u001b[0m\u001b[0m\n\u001b[0;32m--> 258\u001b[0;31m         \u001b[0;32mreturn\u001b[0m \u001b[0msuper\u001b[0m\u001b[0;34m(\u001b[0m\u001b[0mISurfRPT\u001b[0m\u001b[0;34m,\u001b[0m \u001b[0mself\u001b[0m\u001b[0;34m)\u001b[0m\u001b[0;34m.\u001b[0m\u001b[0m_post_run_hook\u001b[0m\u001b[0;34m(\u001b[0m\u001b[0mruntime\u001b[0m\u001b[0;34m)\u001b[0m\u001b[0;34m\u001b[0m\u001b[0;34m\u001b[0m\u001b[0m\n\u001b[0m\u001b[1;32m    259\u001b[0m \u001b[0;34m\u001b[0m\u001b[0m\n\u001b[1;32m    260\u001b[0m     \u001b[0;32mdef\u001b[0m \u001b[0m_run_interface\u001b[0m\u001b[0;34m(\u001b[0m\u001b[0mself\u001b[0m\u001b[0;34m,\u001b[0m \u001b[0mruntime\u001b[0m\u001b[0;34m)\u001b[0m\u001b[0;34m:\u001b[0m\u001b[0;34m\u001b[0m\u001b[0;34m\u001b[0m\u001b[0m\n",
      "\u001b[0;32m/scratch/bselby/.pyenv/versions/3.8.0/lib/python3.8/site-packages/nipype/interfaces/mixins/reporting.py\u001b[0m in \u001b[0;36m_post_run_hook\u001b[0;34m(self, runtime)\u001b[0m\n\u001b[1;32m     48\u001b[0m             )\n\u001b[1;32m     49\u001b[0m \u001b[0;34m\u001b[0m\u001b[0m\n\u001b[0;32m---> 50\u001b[0;31m         \u001b[0mself\u001b[0m\u001b[0;34m.\u001b[0m\u001b[0m_generate_report\u001b[0m\u001b[0;34m(\u001b[0m\u001b[0;34m)\u001b[0m\u001b[0;34m\u001b[0m\u001b[0;34m\u001b[0m\u001b[0m\n\u001b[0m\u001b[1;32m     51\u001b[0m \u001b[0;34m\u001b[0m\u001b[0m\n\u001b[1;32m     52\u001b[0m         \u001b[0;32mreturn\u001b[0m \u001b[0mruntime\u001b[0m\u001b[0;34m\u001b[0m\u001b[0;34m\u001b[0m\u001b[0m\n",
      "\u001b[0;32m/mnt/tigrlab/scratch/bselby/niviz/niviz/interfaces/views.py\u001b[0m in \u001b[0;36m_generate_report\u001b[0;34m(self)\u001b[0m\n\u001b[1;32m    143\u001b[0m         \u001b[0;32mfor\u001b[0m \u001b[0mview\u001b[0m \u001b[0;32min\u001b[0m \u001b[0mself\u001b[0m\u001b[0;34m.\u001b[0m\u001b[0m_views\u001b[0m\u001b[0;34m:\u001b[0m\u001b[0;34m\u001b[0m\u001b[0;34m\u001b[0m\u001b[0m\n\u001b[1;32m    144\u001b[0m             svgs.append(svgt.from_mpl(\n\u001b[0;32m--> 145\u001b[0;31m                 nilp.plot_surf_roi(self._surf_mesh, \n\u001b[0m\u001b[1;32m    146\u001b[0m                                    \u001b[0mroi_map\u001b[0m\u001b[0;34m=\u001b[0m\u001b[0mself\u001b[0m\u001b[0;34m.\u001b[0m\u001b[0m_roi_map\u001b[0m\u001b[0;34m,\u001b[0m\u001b[0;34m\u001b[0m\u001b[0;34m\u001b[0m\u001b[0m\n\u001b[1;32m    147\u001b[0m                                    \u001b[0mhemi\u001b[0m\u001b[0;34m=\u001b[0m\u001b[0mself\u001b[0m\u001b[0;34m.\u001b[0m\u001b[0m_hemi\u001b[0m\u001b[0;34m,\u001b[0m\u001b[0;34m\u001b[0m\u001b[0;34m\u001b[0m\u001b[0m\n",
      "\u001b[0;32m/scratch/bselby/.pyenv/versions/3.8.0/lib/python3.8/site-packages/nilearn/plotting/surf_plotting.py\u001b[0m in \u001b[0;36mplot_surf_roi\u001b[0;34m(surf_mesh, roi_map, bg_map, hemi, view, threshold, alpha, vmin, vmax, cmap, bg_on_data, darkness, title, output_file, axes, figure, **kwargs)\u001b[0m\n\u001b[1;32m    910\u001b[0m     \u001b[0;31m# messages in case of wrong inputs\u001b[0m\u001b[0;34m\u001b[0m\u001b[0;34m\u001b[0m\u001b[0;34m\u001b[0m\u001b[0m\n\u001b[1;32m    911\u001b[0m \u001b[0;34m\u001b[0m\u001b[0m\n\u001b[0;32m--> 912\u001b[0;31m     \u001b[0mroi\u001b[0m \u001b[0;34m=\u001b[0m \u001b[0mload_surf_data\u001b[0m\u001b[0;34m(\u001b[0m\u001b[0mroi_map\u001b[0m\u001b[0;34m)\u001b[0m\u001b[0;34m\u001b[0m\u001b[0;34m\u001b[0m\u001b[0m\n\u001b[0m\u001b[1;32m    913\u001b[0m     \u001b[0;32mif\u001b[0m \u001b[0mvmin\u001b[0m \u001b[0;32mis\u001b[0m \u001b[0;32mNone\u001b[0m\u001b[0;34m:\u001b[0m\u001b[0;34m\u001b[0m\u001b[0;34m\u001b[0m\u001b[0m\n\u001b[1;32m    914\u001b[0m         \u001b[0mvmin\u001b[0m \u001b[0;34m=\u001b[0m \u001b[0mnp\u001b[0m\u001b[0;34m.\u001b[0m\u001b[0mmin\u001b[0m\u001b[0;34m(\u001b[0m\u001b[0mroi\u001b[0m\u001b[0;34m)\u001b[0m\u001b[0;34m\u001b[0m\u001b[0;34m\u001b[0m\u001b[0m\n",
      "\u001b[0;32m/scratch/bselby/.pyenv/versions/3.8.0/lib/python3.8/site-packages/nilearn/surface/surface.py\u001b[0m in \u001b[0;36mload_surf_data\u001b[0;34m(surf_data)\u001b[0m\n\u001b[1;32m    721\u001b[0m                 \u001b[0mdata_part\u001b[0m \u001b[0;34m=\u001b[0m \u001b[0m_gifti_img_to_data\u001b[0m\u001b[0;34m(\u001b[0m\u001b[0mgii\u001b[0m\u001b[0;34m)\u001b[0m\u001b[0;34m\u001b[0m\u001b[0;34m\u001b[0m\u001b[0m\n\u001b[1;32m    722\u001b[0m             \u001b[0;32melse\u001b[0m\u001b[0;34m:\u001b[0m\u001b[0;34m\u001b[0m\u001b[0;34m\u001b[0m\u001b[0m\n\u001b[0;32m--> 723\u001b[0;31m                 raise ValueError(('The input type is not recognized. %r was '\n\u001b[0m\u001b[1;32m    724\u001b[0m                                   \u001b[0;34m'given while valid inputs are a Numpy array '\u001b[0m\u001b[0;34m\u001b[0m\u001b[0;34m\u001b[0m\u001b[0m\n\u001b[1;32m    725\u001b[0m                                   \u001b[0;34m'or one of the following file formats: .gii,'\u001b[0m\u001b[0;34m\u001b[0m\u001b[0;34m\u001b[0m\u001b[0m\n",
      "\u001b[0;31mValueError\u001b[0m: The input type is not recognized. '/mnt/tigrlab/archive/data-2.0/OPT/pipelines/bids_apps/hcppipelines/sub-UT1UT10130/T1w/fsaverage_LR32k/sub-UT1UT10130.32k_fs_LR.wb.spec' was given while valid inputs are a Numpy array or one of the following file formats: .gii, .gii.gz, .mgz, .nii, .nii.gz, Freesurfer specific files such as .curv, .sulc, .thickness, .annot, .label"
     ]
    }
   ],
   "source": [
    "surfRPT.run()"
   ]
  },
  {
   "cell_type": "code",
   "execution_count": null,
   "metadata": {},
   "outputs": [],
   "source": []
  }
 ],
 "metadata": {
  "kernelspec": {
   "display_name": "Python 3",
   "language": "python",
   "name": "python3"
  },
  "language_info": {
   "codemirror_mode": {
    "name": "ipython",
    "version": 3
   },
   "file_extension": ".py",
   "mimetype": "text/x-python",
   "name": "python",
   "nbconvert_exporter": "python",
   "pygments_lexer": "ipython3",
   "version": "3.8.0"
  }
 },
 "nbformat": 4,
 "nbformat_minor": 4
}
